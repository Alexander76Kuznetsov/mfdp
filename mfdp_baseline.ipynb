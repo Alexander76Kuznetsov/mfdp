{
  "cells": [
    {
      "cell_type": "markdown",
      "id": "21e14b3b-d9be-4f1e-b277-9ab7f65c5a71",
      "metadata": {
        "id": "21e14b3b-d9be-4f1e-b277-9ab7f65c5a71"
      },
      "source": [
        "# Load Data"
      ]
    },
    {
      "cell_type": "code",
      "execution_count": 10,
      "id": "fd0d9f09-3572-4ed8-9db6-0f1d92625c8d",
      "metadata": {
        "scrolled": true,
        "id": "fd0d9f09-3572-4ed8-9db6-0f1d92625c8d"
      },
      "outputs": [],
      "source": [
        "!pip install implicit >> _"
      ]
    },
    {
      "cell_type": "code",
      "execution_count": 1,
      "id": "7a1164ec-f32d-4d8c-9349-e07193347639",
      "metadata": {
        "colab": {
          "base_uri": "https://localhost:8080/"
        },
        "id": "7a1164ec-f32d-4d8c-9349-e07193347639",
        "outputId": "1d1422d5-3eb8-43eb-b6c2-a485bdd856bb"
      },
      "outputs": [
        {
          "output_type": "stream",
          "name": "stdout",
          "text": [
            "Drive already mounted at /content/drive; to attempt to forcibly remount, call drive.mount(\"/content/drive\", force_remount=True).\n"
          ]
        }
      ],
      "source": [
        "from datetime import timedelta\n",
        "import polars as pl\n",
        "import implicit\n",
        "from scipy.sparse import csr_matrix\n",
        "import numpy as np\n",
        "import pandas as pd\n",
        "import matplotlib.pyplot as plt\n",
        "\n",
        "from google.colab import drive\n",
        "drive.mount('/content/drive')"
      ]
    },
    {
      "cell_type": "markdown",
      "source": [
        "# Загрузка и очистка данных"
      ],
      "metadata": {
        "id": "W63Jsm9Vi6x_"
      },
      "id": "W63Jsm9Vi6x_"
    },
    {
      "cell_type": "code",
      "execution_count": 2,
      "id": "11dc4c75-27b3-4cbb-a68f-98d3e7177ddd",
      "metadata": {
        "id": "11dc4c75-27b3-4cbb-a68f-98d3e7177ddd"
      },
      "outputs": [],
      "source": [
        "DATA_DIR = '/content/drive/MyDrive/KC/mfdp'\n",
        "\n",
        "# df_test_users = pl.read_parquet(f'{DATA_DIR}/test_users.pq')\n",
        "df_clickstream = pl.read_parquet(f'{DATA_DIR}/clickstream.pq')\n",
        "\n",
        "# df_cat_features = pl.read_parquet(f'{DATA_DIR}/cat_features.pq')\n",
        "# df_text_features = pl.read_parquet(f'{DATA_DIR}/text_features.pq')\n",
        "df_event = pl.read_parquet(f'{DATA_DIR}/events.pq')"
      ]
    },
    {
      "cell_type": "code",
      "source": [
        "df_clickstream.sample(5)"
      ],
      "metadata": {
        "colab": {
          "base_uri": "https://localhost:8080/",
          "height": 255
        },
        "id": "2dNNSa1xizbj",
        "outputId": "20f293b5-2d45-4ac9-8c38-19258e5a93ae"
      },
      "id": "2dNNSa1xizbj",
      "execution_count": 40,
      "outputs": [
        {
          "output_type": "execute_result",
          "data": {
            "text/plain": [
              "shape: (5, 7)\n",
              "┌────────┬──────────┬───────┬─────────────────────┬──────────┬─────────┬────────┐\n",
              "│ cookie ┆ item     ┆ event ┆ event_date          ┆ platform ┆ surface ┆ node   │\n",
              "│ ---    ┆ ---      ┆ ---   ┆ ---                 ┆ ---      ┆ ---     ┆ ---    │\n",
              "│ i64    ┆ i64      ┆ i64   ┆ datetime[ns]        ┆ i64      ┆ i64     ┆ u32    │\n",
              "╞════════╪══════════╪═══════╪═════════════════════╪══════════╪═════════╪════════╡\n",
              "│ 138881 ┆ 18970090 ┆ 17    ┆ 2025-01-29 20:17:15 ┆ 3        ┆ 2       ┆ 1898   │\n",
              "│ 20532  ┆ 19168919 ┆ 17    ┆ 2025-02-19 14:37:37 ┆ 2        ┆ 11      ┆ 373900 │\n",
              "│ 79520  ┆ 14458107 ┆ 17    ┆ 2025-02-07 20:17:12 ┆ 2        ┆ 3       ┆ 122154 │\n",
              "│ 86104  ┆ 5276429  ┆ 17    ┆ 2025-01-16 13:05:01 ┆ 2        ┆ 2       ┆ 192128 │\n",
              "│ 45560  ┆ 1753507  ┆ 17    ┆ 2025-02-02 17:05:52 ┆ 3        ┆ 11      ┆ 152016 │\n",
              "└────────┴──────────┴───────┴─────────────────────┴──────────┴─────────┴────────┘"
            ],
            "text/html": [
              "<div><style>\n",
              ".dataframe > thead > tr,\n",
              ".dataframe > tbody > tr {\n",
              "  text-align: right;\n",
              "  white-space: pre-wrap;\n",
              "}\n",
              "</style>\n",
              "<small>shape: (5, 7)</small><table border=\"1\" class=\"dataframe\"><thead><tr><th>cookie</th><th>item</th><th>event</th><th>event_date</th><th>platform</th><th>surface</th><th>node</th></tr><tr><td>i64</td><td>i64</td><td>i64</td><td>datetime[ns]</td><td>i64</td><td>i64</td><td>u32</td></tr></thead><tbody><tr><td>138881</td><td>18970090</td><td>17</td><td>2025-01-29 20:17:15</td><td>3</td><td>2</td><td>1898</td></tr><tr><td>20532</td><td>19168919</td><td>17</td><td>2025-02-19 14:37:37</td><td>2</td><td>11</td><td>373900</td></tr><tr><td>79520</td><td>14458107</td><td>17</td><td>2025-02-07 20:17:12</td><td>2</td><td>3</td><td>122154</td></tr><tr><td>86104</td><td>5276429</td><td>17</td><td>2025-01-16 13:05:01</td><td>2</td><td>2</td><td>192128</td></tr><tr><td>45560</td><td>1753507</td><td>17</td><td>2025-02-02 17:05:52</td><td>3</td><td>11</td><td>152016</td></tr></tbody></table></div>"
            ]
          },
          "metadata": {},
          "execution_count": 40
        }
      ]
    },
    {
      "cell_type": "code",
      "source": [
        "null_counts = df_clickstream.select([\n",
        "    pl.col(col).is_null().sum().alias(col) for col in df_clickstream.columns\n",
        "])\n",
        "null_counts"
      ],
      "metadata": {
        "colab": {
          "base_uri": "https://localhost:8080/",
          "height": 129
        },
        "id": "bPDzcS3DkDNo",
        "outputId": "602bcc72-8873-43f7-b759-cce2e1d3361a"
      },
      "id": "bPDzcS3DkDNo",
      "execution_count": 47,
      "outputs": [
        {
          "output_type": "execute_result",
          "data": {
            "text/plain": [
              "shape: (1, 7)\n",
              "┌────────┬──────┬───────┬────────────┬──────────┬─────────┬──────┐\n",
              "│ cookie ┆ item ┆ event ┆ event_date ┆ platform ┆ surface ┆ node │\n",
              "│ ---    ┆ ---  ┆ ---   ┆ ---        ┆ ---      ┆ ---     ┆ ---  │\n",
              "│ u32    ┆ u32  ┆ u32   ┆ u32        ┆ u32      ┆ u32     ┆ u32  │\n",
              "╞════════╪══════╪═══════╪════════════╪══════════╪═════════╪══════╡\n",
              "│ 0      ┆ 0    ┆ 0     ┆ 0          ┆ 0        ┆ 0       ┆ 0    │\n",
              "└────────┴──────┴───────┴────────────┴──────────┴─────────┴──────┘"
            ],
            "text/html": [
              "<div><style>\n",
              ".dataframe > thead > tr,\n",
              ".dataframe > tbody > tr {\n",
              "  text-align: right;\n",
              "  white-space: pre-wrap;\n",
              "}\n",
              "</style>\n",
              "<small>shape: (1, 7)</small><table border=\"1\" class=\"dataframe\"><thead><tr><th>cookie</th><th>item</th><th>event</th><th>event_date</th><th>platform</th><th>surface</th><th>node</th></tr><tr><td>u32</td><td>u32</td><td>u32</td><td>u32</td><td>u32</td><td>u32</td><td>u32</td></tr></thead><tbody><tr><td>0</td><td>0</td><td>0</td><td>0</td><td>0</td><td>0</td><td>0</td></tr></tbody></table></div>"
            ]
          },
          "metadata": {},
          "execution_count": 47
        }
      ]
    },
    {
      "cell_type": "code",
      "source": [
        "df_event.sample(5)"
      ],
      "metadata": {
        "colab": {
          "base_uri": "https://localhost:8080/",
          "height": 255
        },
        "id": "VnyQOIeSjfq1",
        "outputId": "cb46808a-ecac-4dd0-d790-3d40923fd916"
      },
      "id": "VnyQOIeSjfq1",
      "execution_count": 41,
      "outputs": [
        {
          "output_type": "execute_result",
          "data": {
            "text/plain": [
              "shape: (5, 2)\n",
              "┌───────┬────────────┐\n",
              "│ event ┆ is_contact │\n",
              "│ ---   ┆ ---        │\n",
              "│ i64   ┆ i64        │\n",
              "╞═══════╪════════════╡\n",
              "│ 0     ┆ 1          │\n",
              "│ 15    ┆ 1          │\n",
              "│ 5     ┆ 1          │\n",
              "│ 14    ┆ 1          │\n",
              "│ 16    ┆ 0          │\n",
              "└───────┴────────────┘"
            ],
            "text/html": [
              "<div><style>\n",
              ".dataframe > thead > tr,\n",
              ".dataframe > tbody > tr {\n",
              "  text-align: right;\n",
              "  white-space: pre-wrap;\n",
              "}\n",
              "</style>\n",
              "<small>shape: (5, 2)</small><table border=\"1\" class=\"dataframe\"><thead><tr><th>event</th><th>is_contact</th></tr><tr><td>i64</td><td>i64</td></tr></thead><tbody><tr><td>0</td><td>1</td></tr><tr><td>15</td><td>1</td></tr><tr><td>5</td><td>1</td></tr><tr><td>14</td><td>1</td></tr><tr><td>16</td><td>0</td></tr></tbody></table></div>"
            ]
          },
          "metadata": {},
          "execution_count": 41
        }
      ]
    },
    {
      "cell_type": "code",
      "source": [
        "null_counts = df_event.select([\n",
        "    pl.col(col).is_null().sum().alias(col) for col in df_event.columns\n",
        "])\n",
        "null_counts"
      ],
      "metadata": {
        "colab": {
          "base_uri": "https://localhost:8080/",
          "height": 129
        },
        "id": "cI00eeYgj0-G",
        "outputId": "62502242-6d91-4c5b-8061-1ea1f1af9987"
      },
      "id": "cI00eeYgj0-G",
      "execution_count": 48,
      "outputs": [
        {
          "output_type": "execute_result",
          "data": {
            "text/plain": [
              "shape: (1, 2)\n",
              "┌───────┬────────────┐\n",
              "│ event ┆ is_contact │\n",
              "│ ---   ┆ ---        │\n",
              "│ u32   ┆ u32        │\n",
              "╞═══════╪════════════╡\n",
              "│ 0     ┆ 0          │\n",
              "└───────┴────────────┘"
            ],
            "text/html": [
              "<div><style>\n",
              ".dataframe > thead > tr,\n",
              ".dataframe > tbody > tr {\n",
              "  text-align: right;\n",
              "  white-space: pre-wrap;\n",
              "}\n",
              "</style>\n",
              "<small>shape: (1, 2)</small><table border=\"1\" class=\"dataframe\"><thead><tr><th>event</th><th>is_contact</th></tr><tr><td>u32</td><td>u32</td></tr></thead><tbody><tr><td>0</td><td>0</td></tr></tbody></table></div>"
            ]
          },
          "metadata": {},
          "execution_count": 48
        }
      ]
    },
    {
      "cell_type": "markdown",
      "source": [
        "# Анализ данных"
      ],
      "metadata": {
        "id": "NLIjOn57kNM9"
      },
      "id": "NLIjOn57kNM9"
    },
    {
      "cell_type": "code",
      "source": [
        "df_clickstream.head()"
      ],
      "metadata": {
        "colab": {
          "base_uri": "https://localhost:8080/",
          "height": 255
        },
        "id": "0DadxY-Snkvg",
        "outputId": "cb0e5c63-6192-4b83-c547-0baf766c1b54"
      },
      "id": "0DadxY-Snkvg",
      "execution_count": 61,
      "outputs": [
        {
          "output_type": "execute_result",
          "data": {
            "text/plain": [
              "shape: (5, 7)\n",
              "┌────────┬──────────┬───────┬─────────────────────┬──────────┬─────────┬────────┐\n",
              "│ cookie ┆ item     ┆ event ┆ event_date          ┆ platform ┆ surface ┆ node   │\n",
              "│ ---    ┆ ---      ┆ ---   ┆ ---                 ┆ ---      ┆ ---     ┆ ---    │\n",
              "│ i64    ┆ i64      ┆ i64   ┆ datetime[ns]        ┆ i64      ┆ i64     ┆ u32    │\n",
              "╞════════╪══════════╪═══════╪═════════════════════╪══════════╪═════════╪════════╡\n",
              "│ 0      ┆ 19915558 ┆ 17    ┆ 2025-02-05 02:30:59 ┆ 3        ┆ 2       ┆ 115659 │\n",
              "│ 0      ┆ 2680232  ┆ 17    ┆ 2025-01-24 21:16:57 ┆ 3        ┆ 2       ┆ 115829 │\n",
              "│ 1      ┆ 4247649  ┆ 17    ┆ 2025-01-29 23:00:58 ┆ 2        ┆ 2       ┆ 7      │\n",
              "│ 1      ┆ 4247649  ┆ 17    ┆ 2025-02-17 14:55:17 ┆ 2        ┆ 2       ┆ 7      │\n",
              "│ 1      ┆ 2171135  ┆ 17    ┆ 2025-01-17 19:23:29 ┆ 2        ┆ 2       ┆ 214458 │\n",
              "└────────┴──────────┴───────┴─────────────────────┴──────────┴─────────┴────────┘"
            ],
            "text/html": [
              "<div><style>\n",
              ".dataframe > thead > tr,\n",
              ".dataframe > tbody > tr {\n",
              "  text-align: right;\n",
              "  white-space: pre-wrap;\n",
              "}\n",
              "</style>\n",
              "<small>shape: (5, 7)</small><table border=\"1\" class=\"dataframe\"><thead><tr><th>cookie</th><th>item</th><th>event</th><th>event_date</th><th>platform</th><th>surface</th><th>node</th></tr><tr><td>i64</td><td>i64</td><td>i64</td><td>datetime[ns]</td><td>i64</td><td>i64</td><td>u32</td></tr></thead><tbody><tr><td>0</td><td>19915558</td><td>17</td><td>2025-02-05 02:30:59</td><td>3</td><td>2</td><td>115659</td></tr><tr><td>0</td><td>2680232</td><td>17</td><td>2025-01-24 21:16:57</td><td>3</td><td>2</td><td>115829</td></tr><tr><td>1</td><td>4247649</td><td>17</td><td>2025-01-29 23:00:58</td><td>2</td><td>2</td><td>7</td></tr><tr><td>1</td><td>4247649</td><td>17</td><td>2025-02-17 14:55:17</td><td>2</td><td>2</td><td>7</td></tr><tr><td>1</td><td>2171135</td><td>17</td><td>2025-01-17 19:23:29</td><td>2</td><td>2</td><td>214458</td></tr></tbody></table></div>"
            ]
          },
          "metadata": {},
          "execution_count": 61
        }
      ]
    },
    {
      "cell_type": "code",
      "source": [
        "n_users = df_clickstream.select(pl.col(\"cookie\").n_unique()).item()\n",
        "n_items = df_clickstream.select(pl.col(\"item\").n_unique()).item()\n",
        "n_nodes = df_clickstream.select(pl.col(\"node\").n_unique()).item()\n",
        "\n",
        "print('Кол-во пользователй:', n_users)\n",
        "print('Кол-во товаров:', n_items)\n",
        "print('Кол-во возможных категорий (таргет):', n_nodes)"
      ],
      "metadata": {
        "colab": {
          "base_uri": "https://localhost:8080/"
        },
        "id": "VLVEH8yZkOnW",
        "outputId": "606811f5-5e7e-4af4-9890-3f1e7ddad73a"
      },
      "id": "VLVEH8yZkOnW",
      "execution_count": 59,
      "outputs": [
        {
          "output_type": "stream",
          "name": "stdout",
          "text": [
            "Кол-во пользователй: 134294\n",
            "Кол-во товаров: 22646691\n",
            "Кол-во возможных категорий (таргет): 408474\n"
          ]
        }
      ]
    },
    {
      "cell_type": "code",
      "source": [
        "min_date = df_clickstream.select(pl.col(\"event_date\").min())['event_date'][0].date()\n",
        "max_date = df_clickstream.select(pl.col(\"event_date\").max())['event_date'][0].date()\n",
        "print(f'Временной диапазон: {min_date} - {max_date}')"
      ],
      "metadata": {
        "colab": {
          "base_uri": "https://localhost:8080/"
        },
        "id": "Ab2um3Ornece",
        "outputId": "da0d1f5d-cd68-404a-a37b-a47108b2610d"
      },
      "id": "Ab2um3Ornece",
      "execution_count": 80,
      "outputs": [
        {
          "output_type": "stream",
          "name": "stdout",
          "text": [
            "Временной диапазон: 2025-01-10 - 2025-02-23\n"
          ]
        }
      ]
    },
    {
      "cell_type": "code",
      "source": [
        "events_by_day = df_clickstream.with_columns([\n",
        "    pl.col(\"event_date\").cast(pl.Date).alias(\"date\")\n",
        "]).group_by(\"date\").len().sort(\"date\")\n",
        "\n",
        "plt.plot(events_by_day['date'], events_by_day['len'])\n",
        "plt.xticks(rotation=45)\n",
        "plt.title('Распределение кол-ва событий по датам')\n",
        "plt.xlabel('Дата')\n",
        "plt.ylabel('Кол-во событий')\n",
        "plt.grid()"
      ],
      "metadata": {
        "colab": {
          "base_uri": "https://localhost:8080/",
          "height": 524
        },
        "id": "mhVe_DrioMiS",
        "outputId": "f7e8dcf3-fd20-406b-b63d-70609184c19f"
      },
      "id": "mhVe_DrioMiS",
      "execution_count": 6,
      "outputs": [
        {
          "output_type": "display_data",
          "data": {
            "text/plain": [
              "<Figure size 640x480 with 1 Axes>"
            ],
            "image/png": "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\n"
          },
          "metadata": {}
        }
      ]
    },
    {
      "cell_type": "markdown",
      "source": [
        "* Наблюдаем сезонность и проглядывается растущий тренд;\n",
        "* В последний день наблюдаем резкое падение активности, обучловленное тем, что данные были выгружены утром."
      ],
      "metadata": {
        "id": "ykDGVz50p7r7"
      },
      "id": "ykDGVz50p7r7"
    },
    {
      "cell_type": "code",
      "source": [
        "# распределие событий\n",
        "event_counts = df_clickstream.group_by(\"event\").len().sort(\"len\", descending=True)\n",
        "event_counts"
      ],
      "metadata": {
        "colab": {
          "base_uri": "https://localhost:8080/",
          "height": 443
        },
        "id": "1VAsydh-ke3k",
        "outputId": "1c04efdd-3364-4ecc-ba37-a2aa18d67398"
      },
      "id": "1VAsydh-ke3k",
      "execution_count": 57,
      "outputs": [
        {
          "output_type": "execute_result",
          "data": {
            "text/plain": [
              "shape: (19, 2)\n",
              "┌───────┬──────────┐\n",
              "│ event ┆ len      │\n",
              "│ ---   ┆ ---      │\n",
              "│ i64   ┆ u32      │\n",
              "╞═══════╪══════════╡\n",
              "│ 17    ┆ 61089584 │\n",
              "│ 11    ┆ 4314754  │\n",
              "│ 12    ┆ 866124   │\n",
              "│ 10    ┆ 827467   │\n",
              "│ 15    ┆ 339072   │\n",
              "│ …     ┆ …        │\n",
              "│ 0     ┆ 7164     │\n",
              "│ 9     ┆ 698      │\n",
              "│ 6     ┆ 194      │\n",
              "│ 1     ┆ 60       │\n",
              "│ 18    ┆ 20       │\n",
              "└───────┴──────────┘"
            ],
            "text/html": [
              "<div><style>\n",
              ".dataframe > thead > tr,\n",
              ".dataframe > tbody > tr {\n",
              "  text-align: right;\n",
              "  white-space: pre-wrap;\n",
              "}\n",
              "</style>\n",
              "<small>shape: (19, 2)</small><table border=\"1\" class=\"dataframe\"><thead><tr><th>event</th><th>len</th></tr><tr><td>i64</td><td>u32</td></tr></thead><tbody><tr><td>17</td><td>61089584</td></tr><tr><td>11</td><td>4314754</td></tr><tr><td>12</td><td>866124</td></tr><tr><td>10</td><td>827467</td></tr><tr><td>15</td><td>339072</td></tr><tr><td>&hellip;</td><td>&hellip;</td></tr><tr><td>0</td><td>7164</td></tr><tr><td>9</td><td>698</td></tr><tr><td>6</td><td>194</td></tr><tr><td>1</td><td>60</td></tr><tr><td>18</td><td>20</td></tr></tbody></table></div>"
            ]
          },
          "metadata": {},
          "execution_count": 57
        }
      ]
    },
    {
      "cell_type": "code",
      "source": [
        "user_activity = df_clickstream.group_by(\"cookie\").len().select([\n",
        "    pl.col(\"len\").mean().alias(\"mean_events\"),\n",
        "    pl.col(\"len\").std().alias(\"std_events\"),\n",
        "    pl.col(\"len\").max().alias(\"max_events\")\n",
        "])\n",
        "user_activity"
      ],
      "metadata": {
        "colab": {
          "base_uri": "https://localhost:8080/",
          "height": 129
        },
        "id": "gvIcfLedpHz_",
        "outputId": "fd1bc8df-8267-4ab3-cfd8-e869932a85af"
      },
      "id": "gvIcfLedpHz_",
      "execution_count": 86,
      "outputs": [
        {
          "output_type": "execute_result",
          "data": {
            "text/plain": [
              "shape: (1, 3)\n",
              "┌─────────────┬────────────┬────────────┐\n",
              "│ mean_events ┆ std_events ┆ max_events │\n",
              "│ ---         ┆ ---        ┆ ---        │\n",
              "│ f64         ┆ f64        ┆ u32        │\n",
              "╞═════════════╪════════════╪════════════╡\n",
              "│ 512.354625  ┆ 823.573902 ┆ 22864      │\n",
              "└─────────────┴────────────┴────────────┘"
            ],
            "text/html": [
              "<div><style>\n",
              ".dataframe > thead > tr,\n",
              ".dataframe > tbody > tr {\n",
              "  text-align: right;\n",
              "  white-space: pre-wrap;\n",
              "}\n",
              "</style>\n",
              "<small>shape: (1, 3)</small><table border=\"1\" class=\"dataframe\"><thead><tr><th>mean_events</th><th>std_events</th><th>max_events</th></tr><tr><td>f64</td><td>f64</td><td>u32</td></tr></thead><tbody><tr><td>512.354625</td><td>823.573902</td><td>22864</td></tr></tbody></table></div>"
            ]
          },
          "metadata": {},
          "execution_count": 86
        }
      ]
    },
    {
      "cell_type": "code",
      "source": [
        "top_items = df_clickstream.group_by(\"item\").len().sort(\"len\", descending=True).head(10)\n",
        "top_items"
      ],
      "metadata": {
        "colab": {
          "base_uri": "https://localhost:8080/",
          "height": 411
        },
        "id": "8b8aBt1fpNqj",
        "outputId": "9ab3bf12-dd6c-4e5e-bca8-2e7f1ff6eb95"
      },
      "id": "8b8aBt1fpNqj",
      "execution_count": 3,
      "outputs": [
        {
          "output_type": "execute_result",
          "data": {
            "text/plain": [
              "shape: (10, 2)\n",
              "┌──────────┬──────┐\n",
              "│ item     ┆ len  │\n",
              "│ ---      ┆ ---  │\n",
              "│ i64      ┆ u32  │\n",
              "╞══════════╪══════╡\n",
              "│ 15897500 ┆ 2642 │\n",
              "│ 16726181 ┆ 2613 │\n",
              "│ 22565184 ┆ 2530 │\n",
              "│ 17649863 ┆ 2270 │\n",
              "│ 16454256 ┆ 2116 │\n",
              "│ 27134640 ┆ 2032 │\n",
              "│ 14902359 ┆ 1716 │\n",
              "│ 9576932  ┆ 1579 │\n",
              "│ 2507050  ┆ 1546 │\n",
              "│ 14678358 ┆ 1459 │\n",
              "└──────────┴──────┘"
            ],
            "text/html": [
              "<div><style>\n",
              ".dataframe > thead > tr,\n",
              ".dataframe > tbody > tr {\n",
              "  text-align: right;\n",
              "  white-space: pre-wrap;\n",
              "}\n",
              "</style>\n",
              "<small>shape: (10, 2)</small><table border=\"1\" class=\"dataframe\"><thead><tr><th>item</th><th>len</th></tr><tr><td>i64</td><td>u32</td></tr></thead><tbody><tr><td>15897500</td><td>2642</td></tr><tr><td>16726181</td><td>2613</td></tr><tr><td>22565184</td><td>2530</td></tr><tr><td>17649863</td><td>2270</td></tr><tr><td>16454256</td><td>2116</td></tr><tr><td>27134640</td><td>2032</td></tr><tr><td>14902359</td><td>1716</td></tr><tr><td>9576932</td><td>1579</td></tr><tr><td>2507050</td><td>1546</td></tr><tr><td>14678358</td><td>1459</td></tr></tbody></table></div>"
            ]
          },
          "metadata": {},
          "execution_count": 3
        }
      ]
    },
    {
      "cell_type": "markdown",
      "id": "f821debd-2a22-41c3-9156-f85b3684bec6",
      "metadata": {
        "id": "f821debd-2a22-41c3-9156-f85b3684bec6"
      },
      "source": [
        "# Разибение на обучающую и валидационную выборки"
      ]
    },
    {
      "cell_type": "code",
      "execution_count": 4,
      "id": "78d6129e-81f8-4156-a360-1ebf380dbca4",
      "metadata": {
        "id": "78d6129e-81f8-4156-a360-1ebf380dbca4"
      },
      "outputs": [],
      "source": [
        "EVAL_DAYS_TRESHOLD = 14\n",
        "treshhold = df_clickstream['event_date'].max() - timedelta(days=EVAL_DAYS_TRESHOLD)\n",
        "\n",
        "df_train = df_clickstream.filter(df_clickstream['event_date'] <= treshhold)\n",
        "df_eval = df_clickstream.filter(df_clickstream['event_date'] > treshhold)[['cookie', 'node', 'event']]\n",
        "df_eval = df_eval.join(df_train, on=['cookie', 'node'], how='anti')"
      ]
    },
    {
      "cell_type": "code",
      "execution_count": 6,
      "id": "d2995b20-2896-4fb5-8f71-3e7a01ca3d8b",
      "metadata": {
        "id": "d2995b20-2896-4fb5-8f71-3e7a01ca3d8b"
      },
      "outputs": [],
      "source": [
        "df_eval = df_eval.filter(\n",
        "    pl.col('event').is_in(\n",
        "        df_event.filter(pl.col('is_contact')==1)['event'].unique()\n",
        "    )\n",
        ")\n",
        "\n",
        "df_eval = df_eval.filter(\n",
        "        pl.col('cookie').is_in(df_train['cookie'].unique())\n",
        "    ).filter(\n",
        "        pl.col('node').is_in(df_train['node'].unique())\n",
        "    )"
      ]
    },
    {
      "cell_type": "code",
      "execution_count": 7,
      "id": "1e938184-194e-469d-be17-043b0c0ad5ed",
      "metadata": {
        "colab": {
          "base_uri": "https://localhost:8080/",
          "height": 443
        },
        "id": "1e938184-194e-469d-be17-043b0c0ad5ed",
        "outputId": "98b54fdf-3459-45c5-b20c-d8f53e88a8dc"
      },
      "outputs": [
        {
          "output_type": "execute_result",
          "data": {
            "text/plain": [
              "shape: (156_112, 3)\n",
              "┌────────┬────────┬───────┐\n",
              "│ cookie ┆ node   ┆ event │\n",
              "│ ---    ┆ ---    ┆ ---   │\n",
              "│ i64    ┆ u32    ┆ i64   │\n",
              "╞════════╪════════╪═══════╡\n",
              "│ 54971  ┆ 166130 ┆ 5     │\n",
              "│ 61480  ┆ 200237 ┆ 4     │\n",
              "│ 28693  ┆ 159192 ┆ 10    │\n",
              "│ 70760  ┆ 221276 ┆ 15    │\n",
              "│ 5963   ┆ 214217 ┆ 10    │\n",
              "│ …      ┆ …      ┆ …     │\n",
              "│ 112895 ┆ 199818 ┆ 4     │\n",
              "│ 90321  ┆ 89514  ┆ 10    │\n",
              "│ 140801 ┆ 337468 ┆ 10    │\n",
              "│ 84926  ┆ 214237 ┆ 10    │\n",
              "│ 98422  ┆ 2654   ┆ 15    │\n",
              "└────────┴────────┴───────┘"
            ],
            "text/html": [
              "<div><style>\n",
              ".dataframe > thead > tr,\n",
              ".dataframe > tbody > tr {\n",
              "  text-align: right;\n",
              "  white-space: pre-wrap;\n",
              "}\n",
              "</style>\n",
              "<small>shape: (156_112, 3)</small><table border=\"1\" class=\"dataframe\"><thead><tr><th>cookie</th><th>node</th><th>event</th></tr><tr><td>i64</td><td>u32</td><td>i64</td></tr></thead><tbody><tr><td>54971</td><td>166130</td><td>5</td></tr><tr><td>61480</td><td>200237</td><td>4</td></tr><tr><td>28693</td><td>159192</td><td>10</td></tr><tr><td>70760</td><td>221276</td><td>15</td></tr><tr><td>5963</td><td>214217</td><td>10</td></tr><tr><td>&hellip;</td><td>&hellip;</td><td>&hellip;</td></tr><tr><td>112895</td><td>199818</td><td>4</td></tr><tr><td>90321</td><td>89514</td><td>10</td></tr><tr><td>140801</td><td>337468</td><td>10</td></tr><tr><td>84926</td><td>214237</td><td>10</td></tr><tr><td>98422</td><td>2654</td><td>15</td></tr></tbody></table></div>"
            ]
          },
          "metadata": {},
          "execution_count": 7
        }
      ],
      "source": [
        "df_eval = df_eval.unique(['cookie', 'node'])\n",
        "df_eval"
      ]
    },
    {
      "cell_type": "markdown",
      "id": "a7610069-bd37-4231-9285-8a8598339376",
      "metadata": {
        "id": "a7610069-bd37-4231-9285-8a8598339376"
      },
      "source": [
        "# Обучение моделей"
      ]
    },
    {
      "cell_type": "markdown",
      "id": "9192c125-ed26-4f28-8433-1b4b6c00776b",
      "metadata": {
        "id": "9192c125-ed26-4f28-8433-1b4b6c00776b"
      },
      "source": [
        "## 1 модель (простая) - рекомендация самых популярных категорий товара"
      ]
    },
    {
      "cell_type": "code",
      "execution_count": 16,
      "id": "63e63c59-d03c-448e-927b-52e0b369fed0",
      "metadata": {
        "id": "63e63c59-d03c-448e-927b-52e0b369fed0"
      },
      "outputs": [],
      "source": [
        "def get_popular(df):\n",
        "    popukar_node = df.group_by('node').agg(pl.col('cookie').count()).sort('cookie').tail(40)['node'].to_list()\n",
        "    df_pred_pop = pl.DataFrame({'node': [popukar_node for i in range(len(eval_users))], 'cookie': eval_users})\n",
        "    df_pred_pop = df_pred_pop.explode('node')\n",
        "    return df_pred_pop\n",
        "\n",
        "train_pop = get_popular(df_train)"
      ]
    },
    {
      "cell_type": "code",
      "source": [
        "train_pop.sample(5)"
      ],
      "metadata": {
        "colab": {
          "base_uri": "https://localhost:8080/",
          "height": 255
        },
        "id": "efNivuUnc74o",
        "outputId": "6a608085-07d4-4096-874f-b315cfe0ef0f"
      },
      "id": "efNivuUnc74o",
      "execution_count": 18,
      "outputs": [
        {
          "output_type": "execute_result",
          "data": {
            "text/plain": [
              "shape: (5, 2)\n",
              "┌────────┬────────┐\n",
              "│ node   ┆ cookie │\n",
              "│ ---    ┆ ---    │\n",
              "│ i64    ┆ i64    │\n",
              "╞════════╪════════╡\n",
              "│ 71547  ┆ 71158  │\n",
              "│ 5738   ┆ 119413 │\n",
              "│ 152470 ┆ 67301  │\n",
              "│ 130596 ┆ 98751  │\n",
              "│ 71511  ┆ 73312  │\n",
              "└────────┴────────┘"
            ],
            "text/html": [
              "<div><style>\n",
              ".dataframe > thead > tr,\n",
              ".dataframe > tbody > tr {\n",
              "  text-align: right;\n",
              "  white-space: pre-wrap;\n",
              "}\n",
              "</style>\n",
              "<small>shape: (5, 2)</small><table border=\"1\" class=\"dataframe\"><thead><tr><th>node</th><th>cookie</th></tr><tr><td>i64</td><td>i64</td></tr></thead><tbody><tr><td>71547</td><td>71158</td></tr><tr><td>5738</td><td>119413</td></tr><tr><td>152470</td><td>67301</td></tr><tr><td>130596</td><td>98751</td></tr><tr><td>71511</td><td>73312</td></tr></tbody></table></div>"
            ]
          },
          "metadata": {},
          "execution_count": 18
        }
      ]
    },
    {
      "cell_type": "markdown",
      "id": "7db32b36-9ec3-47ed-bbc1-0b395c350cf7",
      "metadata": {
        "id": "7db32b36-9ec3-47ed-bbc1-0b395c350cf7"
      },
      "source": [
        "## 2 модель (сложная) - Alternating Least Squares (ALS), реализующий коллаборативную фильтрацию\n",
        "\n"
      ]
    },
    {
      "cell_type": "code",
      "execution_count": 12,
      "id": "118b73e6-c306-4ab8-8ae5-3f133a95cda5",
      "metadata": {
        "id": "118b73e6-c306-4ab8-8ae5-3f133a95cda5"
      },
      "outputs": [],
      "source": [
        "def get_als_pred(users, nodes, user_to_pred):\n",
        "    user_ids = users.unique().to_list()\n",
        "    item_ids = nodes.unique().to_list()\n",
        "\n",
        "    user_id_to_index = {user_id: idx for idx, user_id in enumerate(user_ids)}\n",
        "    item_id_to_index = {item_id: idx for idx, item_id in enumerate(item_ids)}\n",
        "    index_to_item_id = {v:k for k,v in item_id_to_index.items()}\n",
        "\n",
        "    rows = users.replace_strict(user_id_to_index).to_list()\n",
        "    cols = nodes.replace_strict(item_id_to_index).to_list()\n",
        "\n",
        "    values = [1] * len(users)\n",
        "\n",
        "    sparse_matrix = csr_matrix((values, (rows, cols)), shape=(len(user_ids), len(item_ids)))\n",
        "\n",
        "    model = implicit.als.AlternatingLeastSquares(iterations=10, factors=60)\n",
        "    model.fit(sparse_matrix,)\n",
        "\n",
        "\n",
        "    user4pred = np.array([user_id_to_index[i] for i in user_to_pred])\n",
        "\n",
        "    recommendations, scores = model.recommend(user4pred, sparse_matrix[user4pred], N=40, filter_already_liked_items=True)\n",
        "\n",
        "    df_pred = pl.DataFrame(\n",
        "        {\n",
        "            'node': [\n",
        "                [index_to_item_id[i] for i in i] for i in recommendations.tolist()\n",
        "            ],\n",
        "             'cookie': list(user_to_pred),\n",
        "            'scores': scores.tolist()\n",
        "\n",
        "        }\n",
        "    )\n",
        "    df_pred = df_pred.explode(['node', 'scores'])\n",
        "    return df_pred"
      ]
    },
    {
      "cell_type": "code",
      "execution_count": 13,
      "id": "7ec48ba7-af95-49a4-a8e3-f9d24e9a5b2d",
      "metadata": {
        "scrolled": true,
        "colab": {
          "base_uri": "https://localhost:8080/",
          "height": 105,
          "referenced_widgets": [
            "1a067ac798814ace8810d75b4d1f4d0c",
            "af9dd0694c5349ca85dd1a968d211a92",
            "e098ee799fa24870888a62010fbab7b8",
            "110daa29f7c043fb8fdbc00f92abc238",
            "5fbc11b8fd844fc6bf4f0e0f65171c67",
            "031f4cbeaa87427e8ecaa89cdf1d7c6b",
            "ba5d1b9309fa4576b08166a5b389cba3",
            "4f7a99df45074e04b6f37ecf86926b0c",
            "986963c7dd644498b480e1de47850263",
            "1d7e5eb827db44a7a4a8c5adae45aecd",
            "7f5ac90e70a24052abe5a3dec893b936"
          ]
        },
        "id": "7ec48ba7-af95-49a4-a8e3-f9d24e9a5b2d",
        "outputId": "e4876011-53dc-42b9-d6c9-f25baabfb8fc"
      },
      "outputs": [
        {
          "output_type": "stream",
          "name": "stderr",
          "text": [
            "/usr/local/lib/python3.11/dist-packages/implicit/cpu/als.py:95: RuntimeWarning: OpenBLAS is configured to use 2 threads. It is highly recommended to disable its internal threadpool by setting the environment variable 'OPENBLAS_NUM_THREADS=1' or by calling 'threadpoolctl.threadpool_limits(1, \"blas\")'. Having OpenBLAS use a threadpool can lead to severe performance issues here.\n",
            "  check_blas_config()\n"
          ]
        },
        {
          "output_type": "display_data",
          "data": {
            "text/plain": [
              "  0%|          | 0/10 [00:00<?, ?it/s]"
            ],
            "application/vnd.jupyter.widget-view+json": {
              "version_major": 2,
              "version_minor": 0,
              "model_id": "1a067ac798814ace8810d75b4d1f4d0c"
            }
          },
          "metadata": {}
        }
      ],
      "source": [
        "users = df_train[\"cookie\"]\n",
        "nodes = df_train[\"node\"]\n",
        "eval_users = df_eval['cookie'].unique().to_list()\n",
        "\n",
        "df_pred = get_als_pred(users, nodes, eval_users)"
      ]
    },
    {
      "cell_type": "code",
      "source": [
        "df_pred.head()"
      ],
      "metadata": {
        "colab": {
          "base_uri": "https://localhost:8080/",
          "height": 255
        },
        "id": "Q1S8EL-YceZu",
        "outputId": "3f36d22a-12f2-40a5-85ec-01515078eb76"
      },
      "id": "Q1S8EL-YceZu",
      "execution_count": 14,
      "outputs": [
        {
          "output_type": "execute_result",
          "data": {
            "text/plain": [
              "shape: (5, 3)\n",
              "┌────────┬────────┬──────────┐\n",
              "│ node   ┆ cookie ┆ scores   │\n",
              "│ ---    ┆ ---    ┆ ---      │\n",
              "│ i64    ┆ i64    ┆ f64      │\n",
              "╞════════╪════════╪══════════╡\n",
              "│ 115834 ┆ 0      ┆ 0.982415 │\n",
              "│ 116118 ┆ 0      ┆ 0.786615 │\n",
              "│ 116123 ┆ 0      ┆ 0.745486 │\n",
              "│ 115704 ┆ 0      ┆ 0.734276 │\n",
              "│ 214235 ┆ 0      ┆ 0.693826 │\n",
              "└────────┴────────┴──────────┘"
            ],
            "text/html": [
              "<div><style>\n",
              ".dataframe > thead > tr,\n",
              ".dataframe > tbody > tr {\n",
              "  text-align: right;\n",
              "  white-space: pre-wrap;\n",
              "}\n",
              "</style>\n",
              "<small>shape: (5, 3)</small><table border=\"1\" class=\"dataframe\"><thead><tr><th>node</th><th>cookie</th><th>scores</th></tr><tr><td>i64</td><td>i64</td><td>f64</td></tr></thead><tbody><tr><td>115834</td><td>0</td><td>0.982415</td></tr><tr><td>116118</td><td>0</td><td>0.786615</td></tr><tr><td>116123</td><td>0</td><td>0.745486</td></tr><tr><td>115704</td><td>0</td><td>0.734276</td></tr><tr><td>214235</td><td>0</td><td>0.693826</td></tr></tbody></table></div>"
            ]
          },
          "metadata": {},
          "execution_count": 14
        }
      ]
    },
    {
      "cell_type": "markdown",
      "id": "20e5d1dd-9eb8-4e46-8c87-b70ab3e50edb",
      "metadata": {
        "id": "20e5d1dd-9eb8-4e46-8c87-b70ab3e50edb"
      },
      "source": [
        "# Метрики качества\n",
        "\n",
        "Основаная - Recall@40:\n",
        "$$Recall@K = \\frac{1}{|U|} \\cdot \\sum_{u \\in U} \\frac{|I_u^{rel@K}|}{|I_u^{rel}|}$$\n",
        "\n",
        "Вспомогательная - Precision@40:\n",
        "$$Precision@K = \\frac{1}{|U|} \\cdot \\sum_{u \\in U} \\frac{|I_u^{rel@K}|}{K}$$\n",
        "\n",
        "Совокупная - F1@40:\n",
        "$$F1@K = 2 \\cdot \\frac{Precision@K \\cdot Recall@K}{Precision@K + Recall@K}$$"
      ]
    },
    {
      "cell_type": "code",
      "execution_count": 34,
      "id": "f67325eb-6ce3-41f2-b61b-4dfdd9bcab26",
      "metadata": {
        "id": "f67325eb-6ce3-41f2-b61b-4dfdd9bcab26"
      },
      "outputs": [],
      "source": [
        "def calc_metrics(df_true, df_pred, k=40):\n",
        "    recall_at_k = df_true[['node', 'cookie']].join(\n",
        "        df_pred.group_by('cookie').head(k).with_columns(value=1)[['node', 'cookie', 'value']],\n",
        "        how='left',\n",
        "        on = ['cookie', 'node']\n",
        "    ).select(\n",
        "        [pl.col('value').fill_null(0), 'cookie']\n",
        "    ).group_by(\n",
        "        'cookie'\n",
        "    ).agg(\n",
        "        [\n",
        "            pl.col('value').sum()/pl.col(\n",
        "                'value'\n",
        "            ).count()\n",
        "        ]\n",
        "    )['value'].mean()\n",
        "\n",
        "    precision_at_k = df_true[['node', 'cookie']].join(\n",
        "        df_pred.group_by('cookie').head(k).with_columns(value=1)[['node', 'cookie', 'value']],\n",
        "        how='left',\n",
        "        on = ['cookie', 'node']\n",
        "    ).select(\n",
        "        [pl.col('value').fill_null(0), 'cookie']\n",
        "    ).group_by(\n",
        "        'cookie'\n",
        "    ).agg(\n",
        "        [\n",
        "            pl.col('value').sum()/k\n",
        "        ]\n",
        "    )['value'].mean()\n",
        "\n",
        "    f1_at_k = 2 * (precision_at_k * recall_at_k) / (precision_at_k + recall_at_k)\n",
        "\n",
        "    return recall_at_k, precision_at_k, f1_at_k"
      ]
    },
    {
      "cell_type": "code",
      "execution_count": 54,
      "id": "3fdab6aa-249c-4621-ad7e-c97467837b65",
      "metadata": {
        "colab": {
          "base_uri": "https://localhost:8080/",
          "height": 112
        },
        "id": "3fdab6aa-249c-4621-ad7e-c97467837b65",
        "outputId": "42b8450e-94b1-4cdc-f5b5-d2f81b586aff"
      },
      "outputs": [
        {
          "output_type": "execute_result",
          "data": {
            "text/plain": [
              "              recall_at_40  precision_at_40  f1_at_40\n",
              "most_popular      0.058067         0.002983  0.005675\n",
              "ASL               0.151650         0.009271  0.017474"
            ],
            "text/html": [
              "\n",
              "  <div id=\"df-07ba5a4e-03bb-4fde-896f-346a49de3b1d\" class=\"colab-df-container\">\n",
              "    <div>\n",
              "<style scoped>\n",
              "    .dataframe tbody tr th:only-of-type {\n",
              "        vertical-align: middle;\n",
              "    }\n",
              "\n",
              "    .dataframe tbody tr th {\n",
              "        vertical-align: top;\n",
              "    }\n",
              "\n",
              "    .dataframe thead th {\n",
              "        text-align: right;\n",
              "    }\n",
              "</style>\n",
              "<table border=\"1\" class=\"dataframe\">\n",
              "  <thead>\n",
              "    <tr style=\"text-align: right;\">\n",
              "      <th></th>\n",
              "      <th>recall_at_40</th>\n",
              "      <th>precision_at_40</th>\n",
              "      <th>f1_at_40</th>\n",
              "    </tr>\n",
              "  </thead>\n",
              "  <tbody>\n",
              "    <tr>\n",
              "      <th>most_popular</th>\n",
              "      <td>0.058067</td>\n",
              "      <td>0.002983</td>\n",
              "      <td>0.005675</td>\n",
              "    </tr>\n",
              "    <tr>\n",
              "      <th>ASL</th>\n",
              "      <td>0.151650</td>\n",
              "      <td>0.009271</td>\n",
              "      <td>0.017474</td>\n",
              "    </tr>\n",
              "  </tbody>\n",
              "</table>\n",
              "</div>\n",
              "    <div class=\"colab-df-buttons\">\n",
              "\n",
              "  <div class=\"colab-df-container\">\n",
              "    <button class=\"colab-df-convert\" onclick=\"convertToInteractive('df-07ba5a4e-03bb-4fde-896f-346a49de3b1d')\"\n",
              "            title=\"Convert this dataframe to an interactive table.\"\n",
              "            style=\"display:none;\">\n",
              "\n",
              "  <svg xmlns=\"http://www.w3.org/2000/svg\" height=\"24px\" viewBox=\"0 -960 960 960\">\n",
              "    <path d=\"M120-120v-720h720v720H120Zm60-500h600v-160H180v160Zm220 220h160v-160H400v160Zm0 220h160v-160H400v160ZM180-400h160v-160H180v160Zm440 0h160v-160H620v160ZM180-180h160v-160H180v160Zm440 0h160v-160H620v160Z\"/>\n",
              "  </svg>\n",
              "    </button>\n",
              "\n",
              "  <style>\n",
              "    .colab-df-container {\n",
              "      display:flex;\n",
              "      gap: 12px;\n",
              "    }\n",
              "\n",
              "    .colab-df-convert {\n",
              "      background-color: #E8F0FE;\n",
              "      border: none;\n",
              "      border-radius: 50%;\n",
              "      cursor: pointer;\n",
              "      display: none;\n",
              "      fill: #1967D2;\n",
              "      height: 32px;\n",
              "      padding: 0 0 0 0;\n",
              "      width: 32px;\n",
              "    }\n",
              "\n",
              "    .colab-df-convert:hover {\n",
              "      background-color: #E2EBFA;\n",
              "      box-shadow: 0px 1px 2px rgba(60, 64, 67, 0.3), 0px 1px 3px 1px rgba(60, 64, 67, 0.15);\n",
              "      fill: #174EA6;\n",
              "    }\n",
              "\n",
              "    .colab-df-buttons div {\n",
              "      margin-bottom: 4px;\n",
              "    }\n",
              "\n",
              "    [theme=dark] .colab-df-convert {\n",
              "      background-color: #3B4455;\n",
              "      fill: #D2E3FC;\n",
              "    }\n",
              "\n",
              "    [theme=dark] .colab-df-convert:hover {\n",
              "      background-color: #434B5C;\n",
              "      box-shadow: 0px 1px 3px 1px rgba(0, 0, 0, 0.15);\n",
              "      filter: drop-shadow(0px 1px 2px rgba(0, 0, 0, 0.3));\n",
              "      fill: #FFFFFF;\n",
              "    }\n",
              "  </style>\n",
              "\n",
              "    <script>\n",
              "      const buttonEl =\n",
              "        document.querySelector('#df-07ba5a4e-03bb-4fde-896f-346a49de3b1d button.colab-df-convert');\n",
              "      buttonEl.style.display =\n",
              "        google.colab.kernel.accessAllowed ? 'block' : 'none';\n",
              "\n",
              "      async function convertToInteractive(key) {\n",
              "        const element = document.querySelector('#df-07ba5a4e-03bb-4fde-896f-346a49de3b1d');\n",
              "        const dataTable =\n",
              "          await google.colab.kernel.invokeFunction('convertToInteractive',\n",
              "                                                    [key], {});\n",
              "        if (!dataTable) return;\n",
              "\n",
              "        const docLinkHtml = 'Like what you see? Visit the ' +\n",
              "          '<a target=\"_blank\" href=https://colab.research.google.com/notebooks/data_table.ipynb>data table notebook</a>'\n",
              "          + ' to learn more about interactive tables.';\n",
              "        element.innerHTML = '';\n",
              "        dataTable['output_type'] = 'display_data';\n",
              "        await google.colab.output.renderOutput(dataTable, element);\n",
              "        const docLink = document.createElement('div');\n",
              "        docLink.innerHTML = docLinkHtml;\n",
              "        element.appendChild(docLink);\n",
              "      }\n",
              "    </script>\n",
              "  </div>\n",
              "\n",
              "\n",
              "    <div id=\"df-b54e3c81-d70a-40d0-b868-e580529dd56a\">\n",
              "      <button class=\"colab-df-quickchart\" onclick=\"quickchart('df-b54e3c81-d70a-40d0-b868-e580529dd56a')\"\n",
              "                title=\"Suggest charts\"\n",
              "                style=\"display:none;\">\n",
              "\n",
              "<svg xmlns=\"http://www.w3.org/2000/svg\" height=\"24px\"viewBox=\"0 0 24 24\"\n",
              "     width=\"24px\">\n",
              "    <g>\n",
              "        <path d=\"M19 3H5c-1.1 0-2 .9-2 2v14c0 1.1.9 2 2 2h14c1.1 0 2-.9 2-2V5c0-1.1-.9-2-2-2zM9 17H7v-7h2v7zm4 0h-2V7h2v10zm4 0h-2v-4h2v4z\"/>\n",
              "    </g>\n",
              "</svg>\n",
              "      </button>\n",
              "\n",
              "<style>\n",
              "  .colab-df-quickchart {\n",
              "      --bg-color: #E8F0FE;\n",
              "      --fill-color: #1967D2;\n",
              "      --hover-bg-color: #E2EBFA;\n",
              "      --hover-fill-color: #174EA6;\n",
              "      --disabled-fill-color: #AAA;\n",
              "      --disabled-bg-color: #DDD;\n",
              "  }\n",
              "\n",
              "  [theme=dark] .colab-df-quickchart {\n",
              "      --bg-color: #3B4455;\n",
              "      --fill-color: #D2E3FC;\n",
              "      --hover-bg-color: #434B5C;\n",
              "      --hover-fill-color: #FFFFFF;\n",
              "      --disabled-bg-color: #3B4455;\n",
              "      --disabled-fill-color: #666;\n",
              "  }\n",
              "\n",
              "  .colab-df-quickchart {\n",
              "    background-color: var(--bg-color);\n",
              "    border: none;\n",
              "    border-radius: 50%;\n",
              "    cursor: pointer;\n",
              "    display: none;\n",
              "    fill: var(--fill-color);\n",
              "    height: 32px;\n",
              "    padding: 0;\n",
              "    width: 32px;\n",
              "  }\n",
              "\n",
              "  .colab-df-quickchart:hover {\n",
              "    background-color: var(--hover-bg-color);\n",
              "    box-shadow: 0 1px 2px rgba(60, 64, 67, 0.3), 0 1px 3px 1px rgba(60, 64, 67, 0.15);\n",
              "    fill: var(--button-hover-fill-color);\n",
              "  }\n",
              "\n",
              "  .colab-df-quickchart-complete:disabled,\n",
              "  .colab-df-quickchart-complete:disabled:hover {\n",
              "    background-color: var(--disabled-bg-color);\n",
              "    fill: var(--disabled-fill-color);\n",
              "    box-shadow: none;\n",
              "  }\n",
              "\n",
              "  .colab-df-spinner {\n",
              "    border: 2px solid var(--fill-color);\n",
              "    border-color: transparent;\n",
              "    border-bottom-color: var(--fill-color);\n",
              "    animation:\n",
              "      spin 1s steps(1) infinite;\n",
              "  }\n",
              "\n",
              "  @keyframes spin {\n",
              "    0% {\n",
              "      border-color: transparent;\n",
              "      border-bottom-color: var(--fill-color);\n",
              "      border-left-color: var(--fill-color);\n",
              "    }\n",
              "    20% {\n",
              "      border-color: transparent;\n",
              "      border-left-color: var(--fill-color);\n",
              "      border-top-color: var(--fill-color);\n",
              "    }\n",
              "    30% {\n",
              "      border-color: transparent;\n",
              "      border-left-color: var(--fill-color);\n",
              "      border-top-color: var(--fill-color);\n",
              "      border-right-color: var(--fill-color);\n",
              "    }\n",
              "    40% {\n",
              "      border-color: transparent;\n",
              "      border-right-color: var(--fill-color);\n",
              "      border-top-color: var(--fill-color);\n",
              "    }\n",
              "    60% {\n",
              "      border-color: transparent;\n",
              "      border-right-color: var(--fill-color);\n",
              "    }\n",
              "    80% {\n",
              "      border-color: transparent;\n",
              "      border-right-color: var(--fill-color);\n",
              "      border-bottom-color: var(--fill-color);\n",
              "    }\n",
              "    90% {\n",
              "      border-color: transparent;\n",
              "      border-bottom-color: var(--fill-color);\n",
              "    }\n",
              "  }\n",
              "</style>\n",
              "\n",
              "      <script>\n",
              "        async function quickchart(key) {\n",
              "          const quickchartButtonEl =\n",
              "            document.querySelector('#' + key + ' button');\n",
              "          quickchartButtonEl.disabled = true;  // To prevent multiple clicks.\n",
              "          quickchartButtonEl.classList.add('colab-df-spinner');\n",
              "          try {\n",
              "            const charts = await google.colab.kernel.invokeFunction(\n",
              "                'suggestCharts', [key], {});\n",
              "          } catch (error) {\n",
              "            console.error('Error during call to suggestCharts:', error);\n",
              "          }\n",
              "          quickchartButtonEl.classList.remove('colab-df-spinner');\n",
              "          quickchartButtonEl.classList.add('colab-df-quickchart-complete');\n",
              "        }\n",
              "        (() => {\n",
              "          let quickchartButtonEl =\n",
              "            document.querySelector('#df-b54e3c81-d70a-40d0-b868-e580529dd56a button');\n",
              "          quickchartButtonEl.style.display =\n",
              "            google.colab.kernel.accessAllowed ? 'block' : 'none';\n",
              "        })();\n",
              "      </script>\n",
              "    </div>\n",
              "    </div>\n",
              "  </div>\n"
            ],
            "application/vnd.google.colaboratory.intrinsic+json": {
              "type": "dataframe",
              "summary": "{\n  \"name\": \")\",\n  \"rows\": 2,\n  \"fields\": [\n    {\n      \"column\": \"recall_at_40\",\n      \"properties\": {\n        \"dtype\": \"number\",\n        \"std\": 0.06617327993578773,\n        \"min\": 0.058067308552970216,\n        \"max\": 0.15165045850487263,\n        \"num_unique_values\": 2,\n        \"samples\": [\n          0.15165045850487263,\n          0.058067308552970216\n        ],\n        \"semantic_type\": \"\",\n        \"description\": \"\"\n      }\n    },\n    {\n      \"column\": \"precision_at_40\",\n      \"properties\": {\n        \"dtype\": \"number\",\n        \"std\": 0.004445975127438338,\n        \"min\": 0.002983333635918012,\n        \"max\": 0.00927089195911476,\n        \"num_unique_values\": 2,\n        \"samples\": [\n          0.00927089195911476,\n          0.002983333635918012\n        ],\n        \"semantic_type\": \"\",\n        \"description\": \"\"\n      }\n    },\n    {\n      \"column\": \"f1_at_40\",\n      \"properties\": {\n        \"dtype\": \"number\",\n        \"std\": 0.008342778371500818,\n        \"min\": 0.005675096888164623,\n        \"max\": 0.017473567209014003,\n        \"num_unique_values\": 2,\n        \"samples\": [\n          0.017473567209014003,\n          0.005675096888164623\n        ],\n        \"semantic_type\": \"\",\n        \"description\": \"\"\n      }\n    }\n  ]\n}"
            }
          },
          "metadata": {},
          "execution_count": 54
        }
      ],
      "source": [
        "pd.DataFrame(\n",
        "    [\n",
        "        calc_metrics(df_eval, train_pop, k=40),\n",
        "        calc_metrics(df_eval, df_pred, k=40),\n",
        "    ],\n",
        "    columns=['recall_at_40', 'precision_at_40', 'f1_at_40'],\n",
        "    index=['most_popular', 'ASL']\n",
        ")"
      ]
    },
    {
      "cell_type": "markdown",
      "source": [
        "**Recall@40 (Полнота):**\n",
        "\n",
        "* ASL значительно превосходит most_popular: 15.2% против 5.8%.\n",
        "\n",
        "* Это означает, что ASL находит гораздо больше релевантных объектов в топ-40 рекомендациях.\n",
        "\n",
        "**Precision@40 (Точность):**\n",
        "\n",
        "* ASL также лучше по точности: 0.93% против 0.30%.\n",
        "\n",
        "* Хотя значения точности в целом низкие (типично для рекомендательных систем с большим количеством объектов), прирост почти в 3 раза - существенный.\n",
        "\n",
        "**F1@40 (Гармоническое среднее):**\n",
        "\n",
        "* ASL снова выигрывает: 0.0175 против 0.0057.\n",
        "\n",
        "* Это говорит о лучшем балансе между полнотой и точностью.\n",
        "\n",
        "**Вывод:**\n",
        "ASL заметно превосходит most_popular по всем ключевым метрикам. Это указывает на то, что ASL - более продвинутый и точный метод рекомендаций, тогда как most_popular может служить только базовой моделью для сравнения."
      ],
      "metadata": {
        "id": "_auY6uV3mArw"
      },
      "id": "_auY6uV3mArw"
    },
    {
      "cell_type": "code",
      "source": [],
      "metadata": {
        "id": "M2uPLpC-isfT"
      },
      "id": "M2uPLpC-isfT",
      "execution_count": null,
      "outputs": []
    }
  ],
  "metadata": {
    "kernelspec": {
      "display_name": "Python 3 (ipykernel)",
      "language": "python",
      "name": "python3"
    },
    "language_info": {
      "codemirror_mode": {
        "name": "ipython",
        "version": 3
      },
      "file_extension": ".py",
      "mimetype": "text/x-python",
      "name": "python",
      "nbconvert_exporter": "python",
      "pygments_lexer": "ipython3",
      "version": "3.12.3"
    },
    "colab": {
      "provenance": []
    },
    "widgets": {},
        "af9dd0694c5349ca85dd1a968d211a92": {
          "model_module": "@jupyter-widgets/controls",
          "model_name": "HTMLModel",
          "model_module_version": "1.5.0",
          "state": {
            "_dom_classes": [],
            "_model_module": "@jupyter-widgets/controls",
            "_model_module_version": "1.5.0",
            "_model_name": "HTMLModel",
            "_view_count": null,
            "_view_module": "@jupyter-widgets/controls",
            "_view_module_version": "1.5.0",
            "_view_name": "HTMLView",
            "description": "",
            "description_tooltip": null,
            "layout": "IPY_MODEL_031f4cbeaa87427e8ecaa89cdf1d7c6b",
            "placeholder": "​",
            "style": "IPY_MODEL_ba5d1b9309fa4576b08166a5b389cba3",
            "value": "100%"
          }
        },
        "e098ee799fa24870888a62010fbab7b8": {
          "model_module": "@jupyter-widgets/controls",
          "model_name": "FloatProgressModel",
          "model_module_version": "1.5.0",
          "state": {
            "_dom_classes": [],
            "_model_module": "@jupyter-widgets/controls",
            "_model_module_version": "1.5.0",
            "_model_name": "FloatProgressModel",
            "_view_count": null,
            "_view_module": "@jupyter-widgets/controls",
            "_view_module_version": "1.5.0",
            "_view_name": "ProgressView",
            "bar_style": "success",
            "description": "",
            "description_tooltip": null,
            "layout": "IPY_MODEL_4f7a99df45074e04b6f37ecf86926b0c",
            "max": 10,
            "min": 0,
            "orientation": "horizontal",
            "style": "IPY_MODEL_986963c7dd644498b480e1de47850263",
            "value": 10
          }
        },
        "110daa29f7c043fb8fdbc00f92abc238": {
          "model_module": "@jupyter-widgets/controls",
          "model_name": "HTMLModel",
          "model_module_version": "1.5.0",
          "state": {
            "_dom_classes": [],
            "_model_module": "@jupyter-widgets/controls",
            "_model_module_version": "1.5.0",
            "_model_name": "HTMLModel",
            "_view_count": null,
            "_view_module": "@jupyter-widgets/controls",
            "_view_module_version": "1.5.0",
            "_view_name": "HTMLView",
            "description": "",
            "description_tooltip": null,
            "layout": "IPY_MODEL_1d7e5eb827db44a7a4a8c5adae45aecd",
            "placeholder": "​",
            "style": "IPY_MODEL_7f5ac90e70a24052abe5a3dec893b936",
            "value": " 10/10 [01:42&lt;00:00, 10.08s/it]"
          }
        },
        "5fbc11b8fd844fc6bf4f0e0f65171c67": {
          "model_module": "@jupyter-widgets/base",
          "model_name": "LayoutModel",
          "model_module_version": "1.2.0",
          "state": {
            "_model_module": "@jupyter-widgets/base",
            "_model_module_version": "1.2.0",
            "_model_name": "LayoutModel",
            "_view_count": null,
            "_view_module": "@jupyter-widgets/base",
            "_view_module_version": "1.2.0",
            "_view_name": "LayoutView",
            "align_content": null,
            "align_items": null,
            "align_self": null,
            "border": null,
            "bottom": null,
            "display": null,
            "flex": null,
            "flex_flow": null,
            "grid_area": null,
            "grid_auto_columns": null,
            "grid_auto_flow": null,
            "grid_auto_rows": null,
            "grid_column": null,
            "grid_gap": null,
            "grid_row": null,
            "grid_template_areas": null,
            "grid_template_columns": null,
            "grid_template_rows": null,
            "height": null,
            "justify_content": null,
            "justify_items": null,
            "left": null,
            "margin": null,
            "max_height": null,
            "max_width": null,
            "min_height": null,
            "min_width": null,
            "object_fit": null,
            "object_position": null,
            "order": null,
            "overflow": null,
            "overflow_x": null,
            "overflow_y": null,
            "padding": null,
            "right": null,
            "top": null,
            "visibility": null,
            "width": null
          }
        },
        "031f4cbeaa87427e8ecaa89cdf1d7c6b": {
          "model_module": "@jupyter-widgets/base",
          "model_name": "LayoutModel",
          "model_module_version": "1.2.0",
          "state": {
            "_model_module": "@jupyter-widgets/base",
            "_model_module_version": "1.2.0",
            "_model_name": "LayoutModel",
            "_view_count": null,
            "_view_module": "@jupyter-widgets/base",
            "_view_module_version": "1.2.0",
            "_view_name": "LayoutView",
            "align_content": null,
            "align_items": null,
            "align_self": null,
            "border": null,
            "bottom": null,
            "display": null,
            "flex": null,
            "flex_flow": null,
            "grid_area": null,
            "grid_auto_columns": null,
            "grid_auto_flow": null,
            "grid_auto_rows": null,
            "grid_column": null,
            "grid_gap": null,
            "grid_row": null,
            "grid_template_areas": null,
            "grid_template_columns": null,
            "grid_template_rows": null,
            "height": null,
            "justify_content": null,
            "justify_items": null,
            "left": null,
            "margin": null,
            "max_height": null,
            "max_width": null,
            "min_height": null,
            "min_width": null,
            "object_fit": null,
            "object_position": null,
            "order": null,
            "overflow": null,
            "overflow_x": null,
            "overflow_y": null,
            "padding": null,
            "right": null,
            "top": null,
            "visibility": null,
            "width": null
          }
        },
        "ba5d1b9309fa4576b08166a5b389cba3": {
          "model_module": "@jupyter-widgets/controls",
          "model_name": "DescriptionStyleModel",
          "model_module_version": "1.5.0",
          "state": {
            "_model_module": "@jupyter-widgets/controls",
            "_model_module_version": "1.5.0",
            "_model_name": "DescriptionStyleModel",
            "_view_count": null,
            "_view_module": "@jupyter-widgets/base",
            "_view_module_version": "1.2.0",
            "_view_name": "StyleView",
            "description_width": ""
          }
        },
        "4f7a99df45074e04b6f37ecf86926b0c": {
          "model_module": "@jupyter-widgets/base",
          "model_name": "LayoutModel",
          "model_module_version": "1.2.0",
          "state": {
            "_model_module": "@jupyter-widgets/base",
            "_model_module_version": "1.2.0",
            "_model_name": "LayoutModel",
            "_view_count": null,
            "_view_module": "@jupyter-widgets/base",
            "_view_module_version": "1.2.0",
            "_view_name": "LayoutView",
            "align_content": null,
            "align_items": null,
            "align_self": null,
            "border": null,
            "bottom": null,
            "display": null,
            "flex": null,
            "flex_flow": null,
            "grid_area": null,
            "grid_auto_columns": null,
            "grid_auto_flow": null,
            "grid_auto_rows": null,
            "grid_column": null,
            "grid_gap": null,
            "grid_row": null,
            "grid_template_areas": null,
            "grid_template_columns": null,
            "grid_template_rows": null,
            "height": null,
            "justify_content": null,
            "justify_items": null,
            "left": null,
            "margin": null,
            "max_height": null,
            "max_width": null,
            "min_height": null,
            "min_width": null,
            "object_fit": null,
            "object_position": null,
            "order": null,
            "overflow": null,
            "overflow_x": null,
            "overflow_y": null,
            "padding": null,
            "right": null,
            "top": null,
            "visibility": null,
            "width": null
          }
        },
        "986963c7dd644498b480e1de47850263": {
          "model_module": "@jupyter-widgets/controls",
          "model_name": "ProgressStyleModel",
          "model_module_version": "1.5.0",
          "state": {
            "_model_module": "@jupyter-widgets/controls",
            "_model_module_version": "1.5.0",
            "_model_name": "ProgressStyleModel",
            "_view_count": null,
            "_view_module": "@jupyter-widgets/base",
            "_view_module_version": "1.2.0",
            "_view_name": "StyleView",
            "bar_color": null,
            "description_width": ""
          }
        },
        "1d7e5eb827db44a7a4a8c5adae45aecd": {
          "model_module": "@jupyter-widgets/base",
          "model_name": "LayoutModel",
          "model_module_version": "1.2.0",
          "state": {
            "_model_module": "@jupyter-widgets/base",
            "_model_module_version": "1.2.0",
            "_model_name": "LayoutModel",
            "_view_count": null,
            "_view_module": "@jupyter-widgets/base",
            "_view_module_version": "1.2.0",
            "_view_name": "LayoutView",
            "align_content": null,
            "align_items": null,
            "align_self": null,
            "border": null,
            "bottom": null,
            "display": null,
            "flex": null,
            "flex_flow": null,
            "grid_area": null,
            "grid_auto_columns": null,
            "grid_auto_flow": null,
            "grid_auto_rows": null,
            "grid_column": null,
            "grid_gap": null,
            "grid_row": null,
            "grid_template_areas": null,
            "grid_template_columns": null,
            "grid_template_rows": null,
            "height": null,
            "justify_content": null,
            "justify_items": null,
            "left": null,
            "margin": null,
            "max_height": null,
            "max_width": null,
            "min_height": null,
            "min_width": null,
            "object_fit": null,
            "object_position": null,
            "order": null,
            "overflow": null,
            "overflow_x": null,
            "overflow_y": null,
            "padding": null,
            "right": null,
            "top": null,
            "visibility": null,
            "width": null
          }
        },
        "7f5ac90e70a24052abe5a3dec893b936": {
          "model_module": "@jupyter-widgets/controls",
          "model_name": "DescriptionStyleModel",
          "model_module_version": "1.5.0",
          "state": {
            "_model_module": "@jupyter-widgets/controls",
            "_model_module_version": "1.5.0",
            "_model_name": "DescriptionStyleModel",
            "_view_count": null,
            "_view_module": "@jupyter-widgets/base",
            "_view_module_version": "1.2.0",
            "_view_name": "StyleView",
            "description_width": ""
          }
        }
      }
    }
  },
  "nbformat": 4,
  "nbformat_minor": 5
}
